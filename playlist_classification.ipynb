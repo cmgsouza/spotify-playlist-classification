{
 "cells": [
  {
   "cell_type": "code",
   "execution_count": 1,
   "metadata": {},
   "outputs": [],
   "source": [
    "import spotipy\n",
    "import pandas as pd\n",
    "import spotipy.util as util\n",
    "from spotipy.oauth2 import SpotifyClientCredentials\n",
    "from sklearn.metrics import accuracy_score, confusion_matrix\n",
    "from sklearn.model_selection import train_test_split \n",
    "from logistic_regression import LogisticRegression \n",
    "from gaussian_naive_bayes import GaussianNaiveBayes\n",
    "import matplotlib.pyplot as plt\n",
    "% matplotlib inline"
   ]
  },
  {
   "cell_type": "markdown",
   "metadata": {},
   "source": [
    "### 1. Data Acquisition"
   ]
  },
  {
   "cell_type": "markdown",
   "metadata": {},
   "source": [
    "<p style=\"text-align: justify\">The function <code>get_playlist_tracks</code> calls the Spotify Web API and retrieves all the tracks from a given playlist and its selected audio features: acousticness, danceability, energy, instrumentalness, valence and speechiness.</p>"
   ]
  },
  {
   "cell_type": "code",
   "execution_count": 2,
   "metadata": {},
   "outputs": [],
   "source": [
    "def get_playlist_tracks(uri, features_of_interest):\n",
    "    \"\"\"Retrieves all the songs from a Spotify playlist and its selected features.\n",
    "\n",
    "    Parameters\n",
    "    ----------\n",
    "    uri: string\n",
    "        Spotify URI code.\n",
    "    features_of_interest: list\n",
    "        List of song features to be retrieved. \n",
    "\n",
    "    Returns\n",
    "    -------\n",
    "    Dataframe\n",
    "        Table with playlist_id, track_id and each song feature as columns.  \n",
    "    \"\"\"\n",
    "    playlist = sp.user_playlist_tracks(uri.split(':')[2], uri.split(':')[4])\n",
    "    tracks = playlist['items']\n",
    "    list_of_ids = []\n",
    "    list_of_names = []\n",
    "    features_per_track = {}\n",
    "    while playlist['next']:\n",
    "        playlist = sp.next(playlist)\n",
    "        tracks.extend(playlist['items'])\n",
    "    for track in tracks:\n",
    "        list_of_ids.append((track['track']['id']))\n",
    "        list_of_names.append((track['track']['name']))\n",
    "    for n, (track_id, track_name) in enumerate(zip(list_of_ids, list_of_names)): \n",
    "        features = dict((key,value) for key, value in sp.audio_features(track_id)[0].items() if key in features_of_interest)\n",
    "        features['track_id'] = track_id\n",
    "        features['playlist_id'] = uri.split(':')[4]\n",
    "        features_per_track[n] = features\n",
    "    return pd.DataFrame.from_dict(features_per_track, orient='index')"
   ]
  },
  {
   "cell_type": "markdown",
   "metadata": {},
   "source": [
    "<p style=\"text-align: justify\">The data used in this work contains 743 observations and was compiled using the script bellow. It has been previously saved in the <code>dataset.csv</code>.</p>"
   ]
  },
  {
   "cell_type": "code",
   "execution_count": 3,
   "metadata": {},
   "outputs": [
    {
     "name": "stdout",
     "output_type": "stream",
     "text": [
      "No credentials!\n"
     ]
    }
   ],
   "source": [
    "try:\n",
    "    client_credentials_manager = SpotifyClientCredentials(client_id = CLIENT_ID, client_secret = CLIENT_SECRET)\n",
    "    sp = spotipy.Spotify(client_credentials_manager = client_credentials_manager)\n",
    "    audio_features = ['danceability', 'energy','speechiness', 'acousticness','instrumentalness', 'valence']\n",
    "    uri_rap = 'spotify:user:spotifycharts:playlist:4NvVpXZLIZ4z5yzTIqgLve'\n",
    "    uri_jazz = 'spotify:user:spotifycharts:playlist:1Rj92hyXm3WjpOJI8XgYtF'\n",
    "    rap = get_playlist_tracks(uri_rap, audio_features) ##retrieves 'Best of Rap'\n",
    "    jazz = get_playlist_tracks(uri_jazz, audio_features) ##retrieves 'Cafe Jazz'\n",
    "    frames = [rap, jazz]\n",
    "    result = pd.concat(frames).reset_index().drop('index', 1) ##concatenate the Dataframes\n",
    "    result.to_csv('dataset.csv', index=False)\n",
    "except:\n",
    "    print(\"No credentials!\")"
   ]
  },
  {
   "cell_type": "markdown",
   "metadata": {},
   "source": [
    "### 2. Data Analysis"
   ]
  },
  {
   "cell_type": "markdown",
   "metadata": {},
   "source": [
    "<p style=\"text-align: justify\">The following table summarizes the central tendency and dispersion of the audio features.</p>"
   ]
  },
  {
   "cell_type": "code",
   "execution_count": 5,
   "metadata": {},
   "outputs": [
    {
     "data": {
      "text/html": [
       "<div>\n",
       "<style scoped>\n",
       "    .dataframe tbody tr th:only-of-type {\n",
       "        vertical-align: middle;\n",
       "    }\n",
       "\n",
       "    .dataframe tbody tr th {\n",
       "        vertical-align: top;\n",
       "    }\n",
       "\n",
       "    .dataframe thead th {\n",
       "        text-align: right;\n",
       "    }\n",
       "</style>\n",
       "<table border=\"1\" class=\"dataframe\">\n",
       "  <thead>\n",
       "    <tr style=\"text-align: right;\">\n",
       "      <th></th>\n",
       "      <th>danceability</th>\n",
       "      <th>energy</th>\n",
       "      <th>speechiness</th>\n",
       "      <th>acousticness</th>\n",
       "      <th>instrumentalness</th>\n",
       "      <th>valence</th>\n",
       "    </tr>\n",
       "  </thead>\n",
       "  <tbody>\n",
       "    <tr>\n",
       "      <th>count</th>\n",
       "      <td>743.000000</td>\n",
       "      <td>743.000000</td>\n",
       "      <td>743.000000</td>\n",
       "      <td>743.000000</td>\n",
       "      <td>743.000000</td>\n",
       "      <td>743.000000</td>\n",
       "    </tr>\n",
       "    <tr>\n",
       "      <th>mean</th>\n",
       "      <td>0.684261</td>\n",
       "      <td>0.520757</td>\n",
       "      <td>0.155748</td>\n",
       "      <td>0.454871</td>\n",
       "      <td>0.116874</td>\n",
       "      <td>0.568948</td>\n",
       "    </tr>\n",
       "    <tr>\n",
       "      <th>std</th>\n",
       "      <td>0.140446</td>\n",
       "      <td>0.221864</td>\n",
       "      <td>0.131054</td>\n",
       "      <td>0.342040</td>\n",
       "      <td>0.266222</td>\n",
       "      <td>0.208766</td>\n",
       "    </tr>\n",
       "    <tr>\n",
       "      <th>min</th>\n",
       "      <td>0.265000</td>\n",
       "      <td>0.043800</td>\n",
       "      <td>0.025400</td>\n",
       "      <td>0.000136</td>\n",
       "      <td>0.000000</td>\n",
       "      <td>0.041100</td>\n",
       "    </tr>\n",
       "    <tr>\n",
       "      <th>25%</th>\n",
       "      <td>0.596000</td>\n",
       "      <td>0.332500</td>\n",
       "      <td>0.040900</td>\n",
       "      <td>0.106500</td>\n",
       "      <td>0.000000</td>\n",
       "      <td>0.417500</td>\n",
       "    </tr>\n",
       "    <tr>\n",
       "      <th>50%</th>\n",
       "      <td>0.695000</td>\n",
       "      <td>0.521000</td>\n",
       "      <td>0.089900</td>\n",
       "      <td>0.435000</td>\n",
       "      <td>0.000024</td>\n",
       "      <td>0.588000</td>\n",
       "    </tr>\n",
       "    <tr>\n",
       "      <th>75%</th>\n",
       "      <td>0.794000</td>\n",
       "      <td>0.704500</td>\n",
       "      <td>0.268500</td>\n",
       "      <td>0.803000</td>\n",
       "      <td>0.010650</td>\n",
       "      <td>0.730500</td>\n",
       "    </tr>\n",
       "    <tr>\n",
       "      <th>max</th>\n",
       "      <td>0.959000</td>\n",
       "      <td>0.978000</td>\n",
       "      <td>0.628000</td>\n",
       "      <td>0.991000</td>\n",
       "      <td>0.976000</td>\n",
       "      <td>0.975000</td>\n",
       "    </tr>\n",
       "  </tbody>\n",
       "</table>\n",
       "</div>"
      ],
      "text/plain": [
       "       danceability      energy  speechiness  acousticness  instrumentalness  \\\n",
       "count    743.000000  743.000000   743.000000    743.000000        743.000000   \n",
       "mean       0.684261    0.520757     0.155748      0.454871          0.116874   \n",
       "std        0.140446    0.221864     0.131054      0.342040          0.266222   \n",
       "min        0.265000    0.043800     0.025400      0.000136          0.000000   \n",
       "25%        0.596000    0.332500     0.040900      0.106500          0.000000   \n",
       "50%        0.695000    0.521000     0.089900      0.435000          0.000024   \n",
       "75%        0.794000    0.704500     0.268500      0.803000          0.010650   \n",
       "max        0.959000    0.978000     0.628000      0.991000          0.976000   \n",
       "\n",
       "          valence  \n",
       "count  743.000000  \n",
       "mean     0.568948  \n",
       "std      0.208766  \n",
       "min      0.041100  \n",
       "25%      0.417500  \n",
       "50%      0.588000  \n",
       "75%      0.730500  \n",
       "max      0.975000  "
      ]
     },
     "execution_count": 5,
     "metadata": {},
     "output_type": "execute_result"
    }
   ],
   "source": [
    "data = pd.read_csv('dataset.csv')\n",
    "data_trans = data.copy()\n",
    "data_trans.loc[data['playlist_id'] == '4NvVpXZLIZ4z5yzTIqgLve', 'playlist_id'] = 0 ##rap\n",
    "data_trans.loc[data['playlist_id'] == '1Rj92hyXm3WjpOJI8XgYtF', 'playlist_id'] = 1 ##jazz\n",
    "data_trans.loc[:, 'danceability':'valence'].describe()"
   ]
  },
  {
   "cell_type": "markdown",
   "metadata": {},
   "source": [
    "<p style=\"text-align: justify\">And the graph below visually illustrates the central tendency of the audio attributes for each playlist and how it varies compared to the overall average value. Acousticness and instrumentalness are the two attributes that varied the most. The average valence, on the other hand, varied the least.</p> "
   ]
  },
  {
   "cell_type": "code",
   "execution_count": 6,
   "metadata": {},
   "outputs": [
    {
     "data": {
      "image/png": "[encoded data removed]",
      "text/plain": [
       "<Figure size 576x360 with 1 Axes>"
      ]
     },
     "metadata": {},
     "output_type": "display_data"
    }
   ],
   "source": [
    "audio_features = ['danceability', 'energy', 'speechiness', 'acousticness','instrumentalness', 'valence']\n",
    "all_playlists = data_trans[audio_features].describe().T\n",
    "\n",
    "rap = data_trans.loc[data_trans['playlist_id'] == 0][audio_features].describe().T\n",
    "rap.rename(columns={'mean':'mean_rap'}, inplace=True)\n",
    "\n",
    "jazz = data_trans.loc[data_trans['playlist_id'] == 1][audio_features].describe().T\n",
    "jazz.rename(columns={'mean':'mean_jazz'}, inplace=True)\n",
    "\n",
    "df1 = rap['mean_rap']\n",
    "df2 = jazz['mean_jazz']\n",
    "df3 = all_playlists['mean']\n",
    "\n",
    "r = pd.concat([df1, df2, df3], axis=1)\n",
    "r.plot(kind='bar', figsize=(8,5), title='Audio feature average value per playlist', colormap='viridis', rot=20);"
   ]
  },
  {
   "cell_type": "markdown",
   "metadata": {},
   "source": [
    "<p style=\"text-align: justify\">Finally, the dataset is split into training and testing sets with a ratio of 70/30 using the scikit-learn's implementation.</p>"
   ]
  },
  {
   "cell_type": "code",
   "execution_count": 10,
   "metadata": {},
   "outputs": [],
   "source": [
    "features = data_trans.loc[:, 'danceability':'valence'].values\n",
    "targets = data_trans.loc[:, 'playlist_id'].values\n",
    "x_train, x_test, y_train, y_test = train_test_split(features, targets, test_size=0.30, random_state=100)"
   ]
  },
  {
   "cell_type": "markdown",
   "metadata": {},
   "source": [
    "### 3. Logistic Regression"
   ]
  },
  {
   "cell_type": "code",
   "execution_count": 13,
   "metadata": {},
   "outputs": [
    {
     "data": {
      "text/plain": [
       "0.9820627802690582"
      ]
     },
     "execution_count": 13,
     "metadata": {},
     "output_type": "execute_result"
    }
   ],
   "source": [
    "lr = LogisticRegression(iterations=15000, learning_rate=0.10)\n",
    "pred_y = lr.fit(x_train, y_train).predict(x_test)\n",
    "accuracy_score(pred_y, y_test)"
   ]
  },
  {
   "cell_type": "code",
   "execution_count": 14,
   "metadata": {},
   "outputs": [
    {
     "data": {
      "text/plain": [
       "array([[112,   2],\n",
       "       [  2, 107]], dtype=int64)"
      ]
     },
     "execution_count": 14,
     "metadata": {},
     "output_type": "execute_result"
    }
   ],
   "source": [
    "confusion_matrix(y_test, pred_y)"
   ]
  },
  {
   "cell_type": "markdown",
   "metadata": {},
   "source": [
    "### 4. Gaussian Naïve Bayes"
   ]
  },
  {
   "cell_type": "code",
   "execution_count": 15,
   "metadata": {},
   "outputs": [
    {
     "data": {
      "text/plain": [
       "0.968609865470852"
      ]
     },
     "execution_count": 15,
     "metadata": {},
     "output_type": "execute_result"
    }
   ],
   "source": [
    "gnb = GaussianNaiveBayes()\n",
    "pred_y = gnb.fit(x_train, y_train).predict(x_test)\n",
    "accuracy_score(y_test, pred_y)"
   ]
  },
  {
   "cell_type": "code",
   "execution_count": 16,
   "metadata": {},
   "outputs": [
    {
     "data": {
      "text/plain": [
       "array([[113,   1],\n",
       "       [  6, 103]], dtype=int64)"
      ]
     },
     "execution_count": 16,
     "metadata": {},
     "output_type": "execute_result"
    }
   ],
   "source": [
    "confusion_matrix(y_test, pred_y)"
   ]
  },
  {
   "cell_type": "markdown",
   "metadata": {},
   "source": [
    "### 5. Conclusion"
   ]
  },
  {
   "cell_type": "markdown",
   "metadata": {},
   "source": [
    "<p style=\"text-align: justify\">Given the experiments presented above, it’s noticeable that both classifiers reached very high accuracy results, but Logistic Regression slightly outperformed the Gaussian Naïve Bayes model as they scored 98.21% and 96.86% respectively.</p>"
   ]
  }
 ],
 "metadata": {
  "kernelspec": {
   "display_name": "Python 3",
   "language": "python",
   "name": "python3"
  },
  "language_info": {
   "codemirror_mode": {
    "name": "ipython",
    "version": 3
   },
   "file_extension": ".py",
   "mimetype": "text/x-python",
   "name": "python",
   "nbconvert_exporter": "python",
   "pygments_lexer": "ipython3",
   "version": "3.6.5"
  }
 },
 "nbformat": 4,
 "nbformat_minor": 2
}
